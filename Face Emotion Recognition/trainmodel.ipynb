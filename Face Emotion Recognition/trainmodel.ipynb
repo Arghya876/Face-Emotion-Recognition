{
 "cells": [
  {
   "cell_type": "code",
   "execution_count": 13,
   "id": "a4cab476-7009-455f-9ba5-6b27678f81a8",
   "metadata": {},
   "outputs": [],
   "source": [
    "from keras.utils import to_categorical\n",
    "from keras.preprocessing.image import load_img  # Corrected import\n",
    "from keras.models import Sequential\n",
    "from keras.layers import Dense, Conv2D, Dropout, Flatten, MaxPooling2D\n",
    "import os\n",
    "import pandas as pd\n",
    "import numpy as np"
   ]
  },
  {
   "cell_type": "code",
   "execution_count": 14,
   "id": "bc001346-794a-453a-9410-e94ce01ed3c9",
   "metadata": {},
   "outputs": [],
   "source": [
    "TRAIN_DIR = 'images/train'\n",
    "TEST_DIR = 'images/test'"
   ]
  },
  {
   "cell_type": "code",
   "execution_count": 17,
   "id": "c6e4a5b3-7788-42d3-9f29-d3357878ab20",
   "metadata": {},
   "outputs": [],
   "source": [
    "def createdataframe(dir):\n",
    "    image_paths = []\n",
    "    labels = []\n",
    "    for label in os.listdir(dir):\n",
    "        for imagename in os.listdir(os.path.join(dir,label)):\n",
    "            image_paths.append(os.path.join(dir,label,imagename))\n",
    "            labels.append(label)\n",
    "        print(label,\"completed\")\n",
    "    return image_paths,labels"
   ]
  },
  {
   "cell_type": "code",
   "execution_count": 18,
   "id": "48e39977-beb8-44c9-9f83-53e8fa4c36e2",
   "metadata": {},
   "outputs": [
    {
     "name": "stdout",
     "output_type": "stream",
     "text": [
      "angry completed\n",
      "disgust completed\n",
      "fear completed\n",
      "happy completed\n",
      "neutral completed\n",
      "sad completed\n",
      "surprise completed\n"
     ]
    }
   ],
   "source": [
    "train = pd.DataFrame()\n",
    "train['image'], train['label'] = createdataframe(TRAIN_DIR)"
   ]
  },
  {
   "cell_type": "code",
   "execution_count": 19,
   "id": "e508b844-01a4-4225-bcf8-f3af7d696fec",
   "metadata": {},
   "outputs": [
    {
     "name": "stdout",
     "output_type": "stream",
     "text": [
      "                                image     label\n",
      "0            images/train\\angry\\0.jpg     angry\n",
      "1            images/train\\angry\\1.jpg     angry\n",
      "2           images/train\\angry\\10.jpg     angry\n",
      "3        images/train\\angry\\10002.jpg     angry\n",
      "4        images/train\\angry\\10016.jpg     angry\n",
      "...                               ...       ...\n",
      "28816  images/train\\surprise\\9969.jpg  surprise\n",
      "28817  images/train\\surprise\\9985.jpg  surprise\n",
      "28818  images/train\\surprise\\9990.jpg  surprise\n",
      "28819  images/train\\surprise\\9992.jpg  surprise\n",
      "28820  images/train\\surprise\\9996.jpg  surprise\n",
      "\n",
      "[28821 rows x 2 columns]\n"
     ]
    }
   ],
   "source": [
    "print(train)"
   ]
  },
  {
   "cell_type": "code",
   "execution_count": 20,
   "id": "6d63fece-2330-407e-98dc-904b48e46675",
   "metadata": {},
   "outputs": [
    {
     "name": "stdout",
     "output_type": "stream",
     "text": [
      "angry completed\n",
      "disgust completed\n",
      "fear completed\n",
      "happy completed\n",
      "neutral completed\n",
      "sad completed\n",
      "surprise completed\n"
     ]
    }
   ],
   "source": [
    "test = pd.DataFrame()\n",
    "test['image'], test['label'] = createdataframe(TEST_DIR)"
   ]
  },
  {
   "cell_type": "code",
   "execution_count": 27,
   "id": "2dd7f8c3-ccaf-44be-b4c5-d3a75b3b366a",
   "metadata": {},
   "outputs": [
    {
     "name": "stdout",
     "output_type": "stream",
     "text": [
      "                              image     label\n",
      "0       images/test\\angry\\10052.jpg     angry\n",
      "1       images/test\\angry\\10065.jpg     angry\n",
      "2       images/test\\angry\\10079.jpg     angry\n",
      "3       images/test\\angry\\10095.jpg     angry\n",
      "4       images/test\\angry\\10121.jpg     angry\n",
      "...                             ...       ...\n",
      "7061  images/test\\surprise\\9806.jpg  surprise\n",
      "7062  images/test\\surprise\\9830.jpg  surprise\n",
      "7063  images/test\\surprise\\9853.jpg  surprise\n",
      "7064  images/test\\surprise\\9878.jpg  surprise\n",
      "7065   images/test\\surprise\\993.jpg  surprise\n",
      "\n",
      "[7066 rows x 2 columns]\n",
      "0         images/test\\angry\\10052.jpg\n",
      "1         images/test\\angry\\10065.jpg\n",
      "2         images/test\\angry\\10079.jpg\n",
      "3         images/test\\angry\\10095.jpg\n",
      "4         images/test\\angry\\10121.jpg\n",
      "                    ...              \n",
      "7061    images/test\\surprise\\9806.jpg\n",
      "7062    images/test\\surprise\\9830.jpg\n",
      "7063    images/test\\surprise\\9853.jpg\n",
      "7064    images/test\\surprise\\9878.jpg\n",
      "7065     images/test\\surprise\\993.jpg\n",
      "Name: image, Length: 7066, dtype: object\n"
     ]
    }
   ],
   "source": [
    "print(test)\n",
    "print(test['image'])"
   ]
  },
  {
   "cell_type": "code",
   "execution_count": 28,
   "id": "7c207a3a-44ce-4dcb-bde2-e47b300581ab",
   "metadata": {},
   "outputs": [],
   "source": [
    "from tqdm.notebook import tqdm"
   ]
  },
  {
   "cell_type": "code",
   "execution_count": 29,
   "id": "a56aaf8c-5a15-4f53-bd4e-2746b27041ea",
   "metadata": {},
   "outputs": [],
   "source": [
    "def extract_features(images):\n",
    "    features = []\n",
    "    for image in tqdm(images):\n",
    "        img = load_img(image,grayscale = True)\n",
    "        img = np.array(img)\n",
    "        features.append(img)\n",
    "    features = np.array(features) \n",
    "    features = features.reshape(len(features),48,48,1)\n",
    "    return features"
   ]
  },
  {
   "cell_type": "code",
   "execution_count": 30,
   "id": "6ec815cf-9057-4edd-ae64-61a8be2051d8",
   "metadata": {},
   "outputs": [
    {
     "data": {
      "application/vnd.jupyter.widget-view+json": {
       "model_id": "7d5228451f4e467ab906fc860d2d45fe",
       "version_major": 2,
       "version_minor": 0
      },
      "text/plain": [
       "  0%|          | 0/28821 [00:00<?, ?it/s]"
      ]
     },
     "metadata": {},
     "output_type": "display_data"
    },
    {
     "name": "stderr",
     "output_type": "stream",
     "text": [
      "C:\\Users\\arghy\\AppData\\Local\\Programs\\Python\\Python39\\lib\\site-packages\\keras\\src\\utils\\image_utils.py:409: UserWarning: grayscale is deprecated. Please use color_mode = \"grayscale\"\n",
      "  warnings.warn(\n"
     ]
    }
   ],
   "source": [
    "train_features = extract_features(train['image'])"
   ]
  },
  {
   "cell_type": "code",
   "execution_count": 31,
   "id": "f6f968e4-078c-4520-b189-605924233427",
   "metadata": {},
   "outputs": [
    {
     "data": {
      "application/vnd.jupyter.widget-view+json": {
       "model_id": "d8e75a30f9b64d40bd2458affd26dfd0",
       "version_major": 2,
       "version_minor": 0
      },
      "text/plain": [
       "  0%|          | 0/7066 [00:00<?, ?it/s]"
      ]
     },
     "metadata": {},
     "output_type": "display_data"
    }
   ],
   "source": [
    "test_features = extract_features(test['image'])"
   ]
  },
  {
   "cell_type": "code",
   "execution_count": 32,
   "id": "39948942-3409-41b6-b70e-f01bc77a66a6",
   "metadata": {},
   "outputs": [],
   "source": [
    "x_train = train_features/255.0\n",
    "x_test = test_features/255.0"
   ]
  },
  {
   "cell_type": "code",
   "execution_count": 33,
   "id": "367901f2-03b2-413a-9a7c-dca9d0c0ecef",
   "metadata": {},
   "outputs": [],
   "source": [
    "from sklearn.preprocessing import LabelEncoder"
   ]
  },
  {
   "cell_type": "code",
   "execution_count": 35,
   "id": "fbe536a2-1608-438b-af22-afd3b829ee5d",
   "metadata": {},
   "outputs": [
    {
     "data": {
      "text/html": [
       "<style>#sk-container-id-1 {color: black;}#sk-container-id-1 pre{padding: 0;}#sk-container-id-1 div.sk-toggleable {background-color: white;}#sk-container-id-1 label.sk-toggleable__label {cursor: pointer;display: block;width: 100%;margin-bottom: 0;padding: 0.3em;box-sizing: border-box;text-align: center;}#sk-container-id-1 label.sk-toggleable__label-arrow:before {content: \"▸\";float: left;margin-right: 0.25em;color: #696969;}#sk-container-id-1 label.sk-toggleable__label-arrow:hover:before {color: black;}#sk-container-id-1 div.sk-estimator:hover label.sk-toggleable__label-arrow:before {color: black;}#sk-container-id-1 div.sk-toggleable__content {max-height: 0;max-width: 0;overflow: hidden;text-align: left;background-color: #f0f8ff;}#sk-container-id-1 div.sk-toggleable__content pre {margin: 0.2em;color: black;border-radius: 0.25em;background-color: #f0f8ff;}#sk-container-id-1 input.sk-toggleable__control:checked~div.sk-toggleable__content {max-height: 200px;max-width: 100%;overflow: auto;}#sk-container-id-1 input.sk-toggleable__control:checked~label.sk-toggleable__label-arrow:before {content: \"▾\";}#sk-container-id-1 div.sk-estimator input.sk-toggleable__control:checked~label.sk-toggleable__label {background-color: #d4ebff;}#sk-container-id-1 div.sk-label input.sk-toggleable__control:checked~label.sk-toggleable__label {background-color: #d4ebff;}#sk-container-id-1 input.sk-hidden--visually {border: 0;clip: rect(1px 1px 1px 1px);clip: rect(1px, 1px, 1px, 1px);height: 1px;margin: -1px;overflow: hidden;padding: 0;position: absolute;width: 1px;}#sk-container-id-1 div.sk-estimator {font-family: monospace;background-color: #f0f8ff;border: 1px dotted black;border-radius: 0.25em;box-sizing: border-box;margin-bottom: 0.5em;}#sk-container-id-1 div.sk-estimator:hover {background-color: #d4ebff;}#sk-container-id-1 div.sk-parallel-item::after {content: \"\";width: 100%;border-bottom: 1px solid gray;flex-grow: 1;}#sk-container-id-1 div.sk-label:hover label.sk-toggleable__label {background-color: #d4ebff;}#sk-container-id-1 div.sk-serial::before {content: \"\";position: absolute;border-left: 1px solid gray;box-sizing: border-box;top: 0;bottom: 0;left: 50%;z-index: 0;}#sk-container-id-1 div.sk-serial {display: flex;flex-direction: column;align-items: center;background-color: white;padding-right: 0.2em;padding-left: 0.2em;position: relative;}#sk-container-id-1 div.sk-item {position: relative;z-index: 1;}#sk-container-id-1 div.sk-parallel {display: flex;align-items: stretch;justify-content: center;background-color: white;position: relative;}#sk-container-id-1 div.sk-item::before, #sk-container-id-1 div.sk-parallel-item::before {content: \"\";position: absolute;border-left: 1px solid gray;box-sizing: border-box;top: 0;bottom: 0;left: 50%;z-index: -1;}#sk-container-id-1 div.sk-parallel-item {display: flex;flex-direction: column;z-index: 1;position: relative;background-color: white;}#sk-container-id-1 div.sk-parallel-item:first-child::after {align-self: flex-end;width: 50%;}#sk-container-id-1 div.sk-parallel-item:last-child::after {align-self: flex-start;width: 50%;}#sk-container-id-1 div.sk-parallel-item:only-child::after {width: 0;}#sk-container-id-1 div.sk-dashed-wrapped {border: 1px dashed gray;margin: 0 0.4em 0.5em 0.4em;box-sizing: border-box;padding-bottom: 0.4em;background-color: white;}#sk-container-id-1 div.sk-label label {font-family: monospace;font-weight: bold;display: inline-block;line-height: 1.2em;}#sk-container-id-1 div.sk-label-container {text-align: center;}#sk-container-id-1 div.sk-container {/* jupyter's `normalize.less` sets `[hidden] { display: none; }` but bootstrap.min.css set `[hidden] { display: none !important; }` so we also need the `!important` here to be able to override the default hidden behavior on the sphinx rendered scikit-learn.org. See: https://github.com/scikit-learn/scikit-learn/issues/21755 */display: inline-block !important;position: relative;}#sk-container-id-1 div.sk-text-repr-fallback {display: none;}</style><div id=\"sk-container-id-1\" class=\"sk-top-container\"><div class=\"sk-text-repr-fallback\"><pre>LabelEncoder()</pre><b>In a Jupyter environment, please rerun this cell to show the HTML representation or trust the notebook. <br />On GitHub, the HTML representation is unable to render, please try loading this page with nbviewer.org.</b></div><div class=\"sk-container\" hidden><div class=\"sk-item\"><div class=\"sk-estimator sk-toggleable\"><input class=\"sk-toggleable__control sk-hidden--visually\" id=\"sk-estimator-id-1\" type=\"checkbox\" checked><label for=\"sk-estimator-id-1\" class=\"sk-toggleable__label sk-toggleable__label-arrow\">LabelEncoder</label><div class=\"sk-toggleable__content\"><pre>LabelEncoder()</pre></div></div></div></div></div>"
      ],
      "text/plain": [
       "LabelEncoder()"
      ]
     },
     "execution_count": 35,
     "metadata": {},
     "output_type": "execute_result"
    }
   ],
   "source": [
    "le = LabelEncoder()\n",
    "le.fit(train['label'])"
   ]
  },
  {
   "cell_type": "code",
   "execution_count": 36,
   "id": "b5955eae-15d1-423c-a268-8844dd32f969",
   "metadata": {},
   "outputs": [],
   "source": [
    "y_train = le.transform(train['label'])\n",
    "y_test = le.transform(test['label'])"
   ]
  },
  {
   "cell_type": "code",
   "execution_count": 37,
   "id": "d8c8ed40-3426-4afa-9706-b9715c8b1808",
   "metadata": {},
   "outputs": [],
   "source": [
    "y_train = to_categorical(y_train,num_classes = 7)\n",
    "y_test = to_categorical(y_test,num_classes = 7)"
   ]
  },
  {
   "cell_type": "code",
   "execution_count": 44,
   "id": "313773d3-0754-4c02-90bd-c5556b8a1a38",
   "metadata": {},
   "outputs": [],
   "source": [
    "model = Sequential()\n",
    "# convolutional layers\n",
    "model.add(Conv2D(128,kernel_size=(3,3), activation='relu',input_shape=(48,48,1)))\n",
    "model.add(MaxPooling2D(pool_size=(2,2)))\n",
    "model.add(Dropout(0.4))\n",
    "\n",
    "model.add(Conv2D(256,kernel_size=(3,3), activation='relu'))\n",
    "model.add(MaxPooling2D(pool_size=(2,2)))\n",
    "model.add(Dropout(0.4))\n",
    "\n",
    "model.add(Conv2D(512,kernel_size=(3,3), activation='relu'))\n",
    "model.add(MaxPooling2D(pool_size=(2,2)))\n",
    "model.add(Dropout(0.4))\n",
    "\n",
    "model.add(Conv2D(512,kernel_size=(3,3), activation='relu'))\n",
    "model.add(MaxPooling2D(pool_size=(2,2)))\n",
    "model.add(Dropout(0.4))\n",
    "\n",
    "model.add(Flatten())\n",
    "# fully connected layers\n",
    "model.add(Dense(512,activation='relu'))\n",
    "model.add(Dropout(0.4))\n",
    "model.add(Dense(256,activation='relu'))\n",
    "model.add(Dropout(0.3))\n",
    "# output layer\n",
    "model.add(Dense(7, activation='softmax'))"
   ]
  },
  {
   "cell_type": "code",
   "execution_count": 45,
   "id": "96b4b937-5b1e-43f8-b528-73d815260eef",
   "metadata": {},
   "outputs": [],
   "source": [
    "model.compile(optimizer = 'adam', loss = 'categorical_crossentropy', metrics = 'accuracy')"
   ]
  },
  {
   "cell_type": "code",
   "execution_count": 49,
   "id": "dd54f6a7-eb5a-4725-81ba-e6ab13064985",
   "metadata": {},
   "outputs": [
    {
     "name": "stdout",
     "output_type": "stream",
     "text": [
      "Epoch 1/100\n",
      "WARNING:tensorflow:From C:\\Users\\arghy\\AppData\\Local\\Programs\\Python\\Python39\\lib\\site-packages\\keras\\src\\utils\\tf_utils.py:492: The name tf.ragged.RaggedTensorValue is deprecated. Please use tf.compat.v1.ragged.RaggedTensorValue instead.\n",
      "\n",
      "WARNING:tensorflow:From C:\\Users\\arghy\\AppData\\Local\\Programs\\Python\\Python39\\lib\\site-packages\\keras\\src\\engine\\base_layer_utils.py:384: The name tf.executing_eagerly_outside_functions is deprecated. Please use tf.compat.v1.executing_eagerly_outside_functions instead.\n",
      "\n",
      "226/226 [==============================] - 109s 476ms/step - loss: 1.8235 - accuracy: 0.2415 - val_loss: 1.7935 - val_accuracy: 0.2638\n",
      "Epoch 2/100\n",
      "226/226 [==============================] - 94s 418ms/step - loss: 1.7835 - accuracy: 0.2571 - val_loss: 1.7012 - val_accuracy: 0.3002\n",
      "Epoch 3/100\n",
      "226/226 [==============================] - 93s 412ms/step - loss: 1.6657 - accuracy: 0.3322 - val_loss: 1.5066 - val_accuracy: 0.4130\n",
      "Epoch 4/100\n",
      "226/226 [==============================] - 93s 412ms/step - loss: 1.5200 - accuracy: 0.4055 - val_loss: 1.3711 - val_accuracy: 0.4750\n",
      "Epoch 5/100\n",
      "226/226 [==============================] - 92s 409ms/step - loss: 1.4449 - accuracy: 0.4423 - val_loss: 1.3060 - val_accuracy: 0.4962\n",
      "Epoch 6/100\n",
      "226/226 [==============================] - 93s 410ms/step - loss: 1.3922 - accuracy: 0.4653 - val_loss: 1.2707 - val_accuracy: 0.5195\n",
      "Epoch 7/100\n",
      "226/226 [==============================] - 92s 409ms/step - loss: 1.3504 - accuracy: 0.4830 - val_loss: 1.2540 - val_accuracy: 0.5218\n",
      "Epoch 8/100\n",
      "226/226 [==============================] - 92s 409ms/step - loss: 1.3200 - accuracy: 0.4930 - val_loss: 1.2138 - val_accuracy: 0.5398\n",
      "Epoch 9/100\n",
      "226/226 [==============================] - 93s 410ms/step - loss: 1.3025 - accuracy: 0.5032 - val_loss: 1.2079 - val_accuracy: 0.5395\n",
      "Epoch 10/100\n",
      "226/226 [==============================] - 93s 410ms/step - loss: 1.2737 - accuracy: 0.5133 - val_loss: 1.1759 - val_accuracy: 0.5545\n",
      "Epoch 11/100\n",
      "226/226 [==============================] - 93s 411ms/step - loss: 1.2511 - accuracy: 0.5223 - val_loss: 1.1596 - val_accuracy: 0.5583\n",
      "Epoch 12/100\n",
      "226/226 [==============================] - 93s 411ms/step - loss: 1.2376 - accuracy: 0.5293 - val_loss: 1.1589 - val_accuracy: 0.5563\n",
      "Epoch 13/100\n",
      "226/226 [==============================] - 94s 415ms/step - loss: 1.2287 - accuracy: 0.5340 - val_loss: 1.1341 - val_accuracy: 0.5634\n",
      "Epoch 14/100\n",
      "226/226 [==============================] - 93s 413ms/step - loss: 1.2093 - accuracy: 0.5402 - val_loss: 1.1241 - val_accuracy: 0.5718\n",
      "Epoch 15/100\n",
      "226/226 [==============================] - 93s 412ms/step - loss: 1.1993 - accuracy: 0.5448 - val_loss: 1.1372 - val_accuracy: 0.5701\n",
      "Epoch 16/100\n",
      "226/226 [==============================] - 93s 410ms/step - loss: 1.1801 - accuracy: 0.5526 - val_loss: 1.1088 - val_accuracy: 0.5824\n",
      "Epoch 17/100\n",
      "226/226 [==============================] - 93s 411ms/step - loss: 1.1761 - accuracy: 0.5561 - val_loss: 1.1131 - val_accuracy: 0.5798\n",
      "Epoch 18/100\n",
      "226/226 [==============================] - 93s 411ms/step - loss: 1.1611 - accuracy: 0.5608 - val_loss: 1.0993 - val_accuracy: 0.5858\n",
      "Epoch 19/100\n",
      "226/226 [==============================] - 93s 410ms/step - loss: 1.1484 - accuracy: 0.5678 - val_loss: 1.1010 - val_accuracy: 0.5862\n",
      "Epoch 20/100\n",
      "226/226 [==============================] - 93s 411ms/step - loss: 1.1421 - accuracy: 0.5675 - val_loss: 1.0863 - val_accuracy: 0.5858\n",
      "Epoch 21/100\n",
      "226/226 [==============================] - 93s 411ms/step - loss: 1.1273 - accuracy: 0.5728 - val_loss: 1.0941 - val_accuracy: 0.5866\n",
      "Epoch 22/100\n",
      "226/226 [==============================] - 93s 411ms/step - loss: 1.1249 - accuracy: 0.5736 - val_loss: 1.0812 - val_accuracy: 0.5943\n",
      "Epoch 23/100\n",
      "226/226 [==============================] - 93s 410ms/step - loss: 1.1092 - accuracy: 0.5823 - val_loss: 1.0724 - val_accuracy: 0.5992\n",
      "Epoch 24/100\n",
      "226/226 [==============================] - 93s 412ms/step - loss: 1.0961 - accuracy: 0.5859 - val_loss: 1.0886 - val_accuracy: 0.5928\n",
      "Epoch 25/100\n",
      "226/226 [==============================] - 93s 410ms/step - loss: 1.0978 - accuracy: 0.5829 - val_loss: 1.0709 - val_accuracy: 0.5985\n",
      "Epoch 26/100\n",
      "226/226 [==============================] - 93s 410ms/step - loss: 1.0867 - accuracy: 0.5915 - val_loss: 1.0741 - val_accuracy: 0.6025\n",
      "Epoch 27/100\n",
      "226/226 [==============================] - 93s 409ms/step - loss: 1.0886 - accuracy: 0.5879 - val_loss: 1.0764 - val_accuracy: 0.5971\n",
      "Epoch 28/100\n",
      "226/226 [==============================] - 92s 409ms/step - loss: 1.0677 - accuracy: 0.5972 - val_loss: 1.0648 - val_accuracy: 0.5979\n",
      "Epoch 29/100\n",
      "226/226 [==============================] - 92s 409ms/step - loss: 1.0648 - accuracy: 0.5965 - val_loss: 1.0599 - val_accuracy: 0.5962\n",
      "Epoch 30/100\n",
      "226/226 [==============================] - 92s 409ms/step - loss: 1.0567 - accuracy: 0.6017 - val_loss: 1.0781 - val_accuracy: 0.5952\n",
      "Epoch 31/100\n",
      "226/226 [==============================] - 93s 410ms/step - loss: 1.0563 - accuracy: 0.6022 - val_loss: 1.0618 - val_accuracy: 0.6057\n",
      "Epoch 32/100\n",
      "226/226 [==============================] - 93s 410ms/step - loss: 1.0405 - accuracy: 0.6094 - val_loss: 1.0646 - val_accuracy: 0.6001\n",
      "Epoch 33/100\n",
      "226/226 [==============================] - 93s 410ms/step - loss: 1.0323 - accuracy: 0.6109 - val_loss: 1.0493 - val_accuracy: 0.6049\n",
      "Epoch 34/100\n",
      "226/226 [==============================] - 93s 410ms/step - loss: 1.0224 - accuracy: 0.6175 - val_loss: 1.0543 - val_accuracy: 0.6047\n",
      "Epoch 35/100\n",
      "226/226 [==============================] - 93s 411ms/step - loss: 1.0243 - accuracy: 0.6145 - val_loss: 1.0683 - val_accuracy: 0.6029\n",
      "Epoch 36/100\n",
      "226/226 [==============================] - 93s 411ms/step - loss: 1.0167 - accuracy: 0.6188 - val_loss: 1.0454 - val_accuracy: 0.6095\n",
      "Epoch 37/100\n",
      "226/226 [==============================] - 93s 413ms/step - loss: 1.0157 - accuracy: 0.6172 - val_loss: 1.0386 - val_accuracy: 0.6080\n",
      "Epoch 38/100\n",
      "226/226 [==============================] - 93s 412ms/step - loss: 1.0051 - accuracy: 0.6229 - val_loss: 1.0514 - val_accuracy: 0.6104\n",
      "Epoch 39/100\n",
      "226/226 [==============================] - 93s 411ms/step - loss: 0.9913 - accuracy: 0.6256 - val_loss: 1.0332 - val_accuracy: 0.6129\n",
      "Epoch 40/100\n",
      "226/226 [==============================] - 93s 413ms/step - loss: 0.9808 - accuracy: 0.6319 - val_loss: 1.0422 - val_accuracy: 0.6142\n",
      "Epoch 41/100\n",
      "226/226 [==============================] - 93s 411ms/step - loss: 0.9825 - accuracy: 0.6302 - val_loss: 1.0421 - val_accuracy: 0.6080\n",
      "Epoch 42/100\n",
      "226/226 [==============================] - 93s 410ms/step - loss: 0.9771 - accuracy: 0.6307 - val_loss: 1.0417 - val_accuracy: 0.6132\n",
      "Epoch 43/100\n",
      "226/226 [==============================] - 93s 410ms/step - loss: 0.9675 - accuracy: 0.6333 - val_loss: 1.0421 - val_accuracy: 0.6135\n",
      "Epoch 44/100\n",
      "226/226 [==============================] - 93s 411ms/step - loss: 0.9667 - accuracy: 0.6373 - val_loss: 1.0444 - val_accuracy: 0.6108\n",
      "Epoch 45/100\n",
      "226/226 [==============================] - 93s 410ms/step - loss: 0.9535 - accuracy: 0.6429 - val_loss: 1.0339 - val_accuracy: 0.6141\n",
      "Epoch 46/100\n",
      "226/226 [==============================] - 93s 410ms/step - loss: 0.9599 - accuracy: 0.6420 - val_loss: 1.0472 - val_accuracy: 0.6176\n",
      "Epoch 47/100\n",
      "226/226 [==============================] - 92s 409ms/step - loss: 0.9389 - accuracy: 0.6498 - val_loss: 1.0401 - val_accuracy: 0.6142\n",
      "Epoch 48/100\n",
      "226/226 [==============================] - 92s 409ms/step - loss: 0.9423 - accuracy: 0.6509 - val_loss: 1.0503 - val_accuracy: 0.6172\n",
      "Epoch 49/100\n",
      "226/226 [==============================] - 92s 409ms/step - loss: 0.9329 - accuracy: 0.6514 - val_loss: 1.0348 - val_accuracy: 0.6170\n",
      "Epoch 50/100\n",
      "226/226 [==============================] - 93s 410ms/step - loss: 0.9298 - accuracy: 0.6578 - val_loss: 1.0292 - val_accuracy: 0.6146\n",
      "Epoch 51/100\n",
      "226/226 [==============================] - 92s 409ms/step - loss: 0.9244 - accuracy: 0.6536 - val_loss: 1.0341 - val_accuracy: 0.6211\n",
      "Epoch 52/100\n",
      "226/226 [==============================] - 92s 409ms/step - loss: 0.9241 - accuracy: 0.6581 - val_loss: 1.0325 - val_accuracy: 0.6163\n",
      "Epoch 53/100\n",
      "226/226 [==============================] - 92s 409ms/step - loss: 0.9123 - accuracy: 0.6594 - val_loss: 1.0295 - val_accuracy: 0.6227\n",
      "Epoch 54/100\n",
      "226/226 [==============================] - 92s 409ms/step - loss: 0.9029 - accuracy: 0.6666 - val_loss: 1.0351 - val_accuracy: 0.6182\n",
      "Epoch 55/100\n",
      "226/226 [==============================] - 92s 409ms/step - loss: 0.8974 - accuracy: 0.6649 - val_loss: 1.0362 - val_accuracy: 0.6197\n",
      "Epoch 56/100\n",
      "226/226 [==============================] - 92s 409ms/step - loss: 0.8995 - accuracy: 0.6646 - val_loss: 1.0288 - val_accuracy: 0.6226\n",
      "Epoch 57/100\n",
      "226/226 [==============================] - 92s 408ms/step - loss: 0.8869 - accuracy: 0.6702 - val_loss: 1.0428 - val_accuracy: 0.6214\n",
      "Epoch 58/100\n",
      "226/226 [==============================] - 92s 409ms/step - loss: 0.8871 - accuracy: 0.6703 - val_loss: 1.0407 - val_accuracy: 0.6180\n",
      "Epoch 59/100\n",
      "226/226 [==============================] - 92s 409ms/step - loss: 0.8751 - accuracy: 0.6757 - val_loss: 1.0285 - val_accuracy: 0.6231\n",
      "Epoch 60/100\n",
      "226/226 [==============================] - 93s 409ms/step - loss: 0.8787 - accuracy: 0.6746 - val_loss: 1.0330 - val_accuracy: 0.6226\n",
      "Epoch 61/100\n",
      "226/226 [==============================] - 92s 409ms/step - loss: 0.8701 - accuracy: 0.6775 - val_loss: 1.0355 - val_accuracy: 0.6227\n",
      "Epoch 62/100\n",
      "226/226 [==============================] - 92s 408ms/step - loss: 0.8666 - accuracy: 0.6791 - val_loss: 1.0267 - val_accuracy: 0.6248\n",
      "Epoch 63/100\n",
      "226/226 [==============================] - 92s 409ms/step - loss: 0.8602 - accuracy: 0.6794 - val_loss: 1.0379 - val_accuracy: 0.6202\n",
      "Epoch 64/100\n",
      "226/226 [==============================] - 92s 408ms/step - loss: 0.8551 - accuracy: 0.6835 - val_loss: 1.0220 - val_accuracy: 0.6267\n",
      "Epoch 65/100\n",
      "226/226 [==============================] - 92s 408ms/step - loss: 0.8491 - accuracy: 0.6863 - val_loss: 1.0334 - val_accuracy: 0.6252\n",
      "Epoch 66/100\n",
      "226/226 [==============================] - 92s 409ms/step - loss: 0.8407 - accuracy: 0.6887 - val_loss: 1.0389 - val_accuracy: 0.6175\n",
      "Epoch 67/100\n",
      "226/226 [==============================] - 92s 408ms/step - loss: 0.8373 - accuracy: 0.6906 - val_loss: 1.0480 - val_accuracy: 0.6231\n",
      "Epoch 68/100\n",
      "226/226 [==============================] - 93s 412ms/step - loss: 0.8361 - accuracy: 0.6904 - val_loss: 1.0412 - val_accuracy: 0.6265\n",
      "Epoch 69/100\n",
      "226/226 [==============================] - 93s 410ms/step - loss: 0.8327 - accuracy: 0.6910 - val_loss: 1.0337 - val_accuracy: 0.6245\n",
      "Epoch 70/100\n",
      "226/226 [==============================] - 93s 411ms/step - loss: 0.8304 - accuracy: 0.6957 - val_loss: 1.0295 - val_accuracy: 0.6240\n",
      "Epoch 71/100\n",
      "226/226 [==============================] - 92s 409ms/step - loss: 0.8235 - accuracy: 0.6967 - val_loss: 1.0265 - val_accuracy: 0.6269\n",
      "Epoch 72/100\n",
      "226/226 [==============================] - 93s 410ms/step - loss: 0.8186 - accuracy: 0.6986 - val_loss: 1.0336 - val_accuracy: 0.6254\n",
      "Epoch 73/100\n",
      "226/226 [==============================] - 93s 410ms/step - loss: 0.8255 - accuracy: 0.6956 - val_loss: 1.0318 - val_accuracy: 0.6275\n",
      "Epoch 74/100\n",
      "226/226 [==============================] - 93s 411ms/step - loss: 0.8036 - accuracy: 0.7030 - val_loss: 1.0302 - val_accuracy: 0.6291\n",
      "Epoch 75/100\n",
      "226/226 [==============================] - 92s 409ms/step - loss: 0.8031 - accuracy: 0.7056 - val_loss: 1.0424 - val_accuracy: 0.6209\n",
      "Epoch 76/100\n",
      "226/226 [==============================] - 92s 409ms/step - loss: 0.8069 - accuracy: 0.7027 - val_loss: 1.0412 - val_accuracy: 0.6260\n",
      "Epoch 77/100\n",
      "226/226 [==============================] - 93s 410ms/step - loss: 0.7935 - accuracy: 0.7098 - val_loss: 1.0470 - val_accuracy: 0.6203\n",
      "Epoch 78/100\n",
      "226/226 [==============================] - 92s 408ms/step - loss: 0.7947 - accuracy: 0.7075 - val_loss: 1.0331 - val_accuracy: 0.6267\n",
      "Epoch 79/100\n",
      "226/226 [==============================] - 92s 408ms/step - loss: 0.7834 - accuracy: 0.7133 - val_loss: 1.0339 - val_accuracy: 0.6265\n",
      "Epoch 80/100\n",
      "226/226 [==============================] - 93s 410ms/step - loss: 0.7777 - accuracy: 0.7105 - val_loss: 1.0347 - val_accuracy: 0.6312\n",
      "Epoch 81/100\n",
      "226/226 [==============================] - 92s 409ms/step - loss: 0.7805 - accuracy: 0.7100 - val_loss: 1.0291 - val_accuracy: 0.6272\n",
      "Epoch 82/100\n",
      "226/226 [==============================] - 94s 414ms/step - loss: 0.7738 - accuracy: 0.7168 - val_loss: 1.0337 - val_accuracy: 0.6342\n",
      "Epoch 83/100\n",
      "226/226 [==============================] - 92s 409ms/step - loss: 0.7624 - accuracy: 0.7242 - val_loss: 1.0341 - val_accuracy: 0.6303\n",
      "Epoch 84/100\n",
      "226/226 [==============================] - 93s 412ms/step - loss: 0.7716 - accuracy: 0.7190 - val_loss: 1.0357 - val_accuracy: 0.6277\n",
      "Epoch 85/100\n",
      "226/226 [==============================] - 92s 409ms/step - loss: 0.7607 - accuracy: 0.7197 - val_loss: 1.0351 - val_accuracy: 0.6361\n",
      "Epoch 86/100\n",
      "226/226 [==============================] - 93s 412ms/step - loss: 0.7661 - accuracy: 0.7211 - val_loss: 1.0380 - val_accuracy: 0.6248\n",
      "Epoch 87/100\n",
      "226/226 [==============================] - 93s 410ms/step - loss: 0.7539 - accuracy: 0.7255 - val_loss: 1.0383 - val_accuracy: 0.6315\n",
      "Epoch 88/100\n",
      "226/226 [==============================] - 93s 412ms/step - loss: 0.7563 - accuracy: 0.7228 - val_loss: 1.0435 - val_accuracy: 0.6278\n",
      "Epoch 89/100\n",
      "226/226 [==============================] - 92s 409ms/step - loss: 0.7432 - accuracy: 0.7290 - val_loss: 1.0320 - val_accuracy: 0.6318\n",
      "Epoch 90/100\n",
      "226/226 [==============================] - 92s 408ms/step - loss: 0.7380 - accuracy: 0.7278 - val_loss: 1.0241 - val_accuracy: 0.6335\n",
      "Epoch 91/100\n",
      "226/226 [==============================] - 93s 409ms/step - loss: 0.7341 - accuracy: 0.7329 - val_loss: 1.0315 - val_accuracy: 0.6299\n",
      "Epoch 92/100\n",
      "226/226 [==============================] - 93s 410ms/step - loss: 0.7330 - accuracy: 0.7309 - val_loss: 1.0454 - val_accuracy: 0.6288\n",
      "Epoch 93/100\n",
      "226/226 [==============================] - 92s 409ms/step - loss: 0.7271 - accuracy: 0.7359 - val_loss: 1.0526 - val_accuracy: 0.6233\n",
      "Epoch 94/100\n",
      "226/226 [==============================] - 92s 409ms/step - loss: 0.7240 - accuracy: 0.7352 - val_loss: 1.0326 - val_accuracy: 0.6312\n",
      "Epoch 95/100\n",
      "226/226 [==============================] - 92s 408ms/step - loss: 0.7156 - accuracy: 0.7399 - val_loss: 1.0446 - val_accuracy: 0.6254\n",
      "Epoch 96/100\n",
      "226/226 [==============================] - 92s 409ms/step - loss: 0.7258 - accuracy: 0.7333 - val_loss: 1.0382 - val_accuracy: 0.6357\n",
      "Epoch 97/100\n",
      "226/226 [==============================] - 92s 409ms/step - loss: 0.7119 - accuracy: 0.7403 - val_loss: 1.0504 - val_accuracy: 0.6281\n",
      "Epoch 98/100\n",
      "226/226 [==============================] - 93s 412ms/step - loss: 0.7099 - accuracy: 0.7418 - val_loss: 1.0434 - val_accuracy: 0.6299\n",
      "Epoch 99/100\n",
      "226/226 [==============================] - 92s 409ms/step - loss: 0.7115 - accuracy: 0.7417 - val_loss: 1.0487 - val_accuracy: 0.6340\n",
      "Epoch 100/100\n",
      "226/226 [==============================] - 92s 409ms/step - loss: 0.7013 - accuracy: 0.7489 - val_loss: 1.0472 - val_accuracy: 0.6318\n"
     ]
    },
    {
     "data": {
      "text/plain": [
       "<keras.src.callbacks.History at 0x1fee52ea9a0>"
      ]
     },
     "execution_count": 49,
     "metadata": {},
     "output_type": "execute_result"
    }
   ],
   "source": [
    "model.fit(x=x_train, y=y_train, batch_size=128, epochs=100, validation_data=(x_test, y_test))"
   ]
  },
  {
   "cell_type": "code",
   "execution_count": 51,
   "id": "b37c2ed6-38b8-4570-a22d-7bd03159af6e",
   "metadata": {},
   "outputs": [
    {
     "name": "stderr",
     "output_type": "stream",
     "text": [
      "C:\\Users\\arghy\\AppData\\Local\\Programs\\Python\\Python39\\lib\\site-packages\\keras\\src\\engine\\training.py:3103: UserWarning: You are saving your model as an HDF5 file via `model.save()`. This file format is considered legacy. We recommend using instead the native Keras format, e.g. `model.save('my_model.keras')`.\n",
      "  saving_api.save_model(\n"
     ]
    }
   ],
   "source": [
    "model_json = model.to_json()\n",
    "with open(\"emotiondetector.json\",'w') as json_file:\n",
    "    json_file.write(model_json)\n",
    "model.save(\"emotiondetector.h5\")    "
   ]
  },
  {
   "cell_type": "code",
   "execution_count": 52,
   "id": "3281684c-6586-4ce9-8f6c-f5988ad0940b",
   "metadata": {},
   "outputs": [],
   "source": [
    "from keras.models import model_from_json"
   ]
  },
  {
   "cell_type": "code",
   "execution_count": 53,
   "id": "ce7c6133-5f10-4f44-b22a-e586f070f999",
   "metadata": {},
   "outputs": [],
   "source": [
    "json_file = open(\"emotiondetector.json\",\"r\")\n",
    "model_json = json_file.read()\n",
    "json_file.close()\n",
    "model = model_from_json(model_json)\n",
    "model.load_weights(\"emotiondetector.h5\")"
   ]
  },
  {
   "cell_type": "code",
   "execution_count": 54,
   "id": "82f75fd7-60f2-45d5-92c2-65ac4a4c054d",
   "metadata": {},
   "outputs": [],
   "source": [
    "label = ['angry','disgust','fear','happy','neytral','sad','surprise']"
   ]
  },
  {
   "cell_type": "code",
   "execution_count": 57,
   "id": "829a5b8b-512e-4d43-8b1b-afd32fac40a5",
   "metadata": {},
   "outputs": [],
   "source": [
    "def ef(image):\n",
    "    img = load_img(image, grayscale=True)\n",
    "    feature = np.array(img)\n",
    "    feature = feature.reshape(1, 48, 48, 1)\n",
    "    return feature / 255.0"
   ]
  },
  {
   "cell_type": "code",
   "execution_count": 60,
   "id": "a2ba7d19-12d5-44f5-b7f2-1378ae765788",
   "metadata": {},
   "outputs": [
    {
     "name": "stdout",
     "output_type": "stream",
     "text": [
      "Original image is of angry\n",
      "1/1 [==============================] - 0s 32ms/step\n",
      "model prediction is  happy\n"
     ]
    }
   ],
   "source": [
    "image = 'images/train/happy/24.jpg'\n",
    "print(\"Original image is of angry\")\n",
    "img = ef(image)\n",
    "pred = model.predict(img)\n",
    "pred_label = label[pred.argmax()]\n",
    "print(\"model prediction is \",pred_label)"
   ]
  },
  {
   "cell_type": "code",
   "execution_count": null,
   "id": "1a28dbda-659b-4f32-98a8-ead29df4eb19",
   "metadata": {},
   "outputs": [],
   "source": []
  }
 ],
 "metadata": {
  "kernelspec": {
   "display_name": "Python 3 (ipykernel)",
   "language": "python",
   "name": "python3"
  },
  "language_info": {
   "codemirror_mode": {
    "name": "ipython",
    "version": 3
   },
   "file_extension": ".py",
   "mimetype": "text/x-python",
   "name": "python",
   "nbconvert_exporter": "python",
   "pygments_lexer": "ipython3",
   "version": "3.9.5"
  }
 },
 "nbformat": 4,
 "nbformat_minor": 5
}
